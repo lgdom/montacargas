{
  "nbformat": 4,
  "nbformat_minor": 0,
  "metadata": {
    "colab": {
      "provenance": []
    },
    "kernelspec": {
      "name": "python3",
      "display_name": "Python 3"
    },
    "language_info": {
      "name": "python"
    }
  },
  "cells": [
    {
      "cell_type": "code",
      "source": [
        "%pip install fuzzywuzzy"
      ],
      "metadata": {
        "colab": {
          "base_uri": "https://localhost:8080/"
        },
        "id": "xOQQds1vH-IP",
        "outputId": "df9b83ae-fbc7-44e4-cf09-226af4000d56"
      },
      "execution_count": null,
      "outputs": [
        {
          "output_type": "stream",
          "name": "stdout",
          "text": [
            "Collecting fuzzywuzzy\n",
            "  Downloading fuzzywuzzy-0.18.0-py2.py3-none-any.whl.metadata (4.9 kB)\n",
            "Downloading fuzzywuzzy-0.18.0-py2.py3-none-any.whl (18 kB)\n",
            "Installing collected packages: fuzzywuzzy\n",
            "Successfully installed fuzzywuzzy-0.18.0\n"
          ]
        }
      ]
    },
    {
      "cell_type": "code",
      "execution_count": 7,
      "metadata": {
        "colab": {
          "base_uri": "https://localhost:8080/"
        },
        "id": "N63pdu-pG4es",
        "outputId": "e13799f5-9d1d-47d4-81ef-00861265c28e"
      },
      "outputs": [
        {
          "output_type": "stream",
          "name": "stdout",
          "text": [
            "Proceso completado. Revisa el archivo 'Resultado_Coincidencias.csv'.\n"
          ]
        }
      ],
      "source": [
        "import pandas as pd\n",
        "from fuzzywuzzy import fuzz, process\n",
        "\n",
        "# Cargar los archivos\n",
        "bd_refacciones = pd.read_csv(\"/content/BD REFACCIONES.csv\", encoding=\"utf-8\")\n",
        "bd_sap = pd.read_csv(\"/content/BD SAP.csv\", encoding=\"utf-8\")\n",
        "\n",
        "# Normalizar texto\n",
        "def normalizar_texto(texto):\n",
        "    return str(texto).strip().lower()\n",
        "\n",
        "bd_refacciones[\"Refaccion\"] = bd_refacciones[\"Refaccion\"].apply(normalizar_texto)\n",
        "bd_sap[\"Descripcion\"] = bd_sap[\"Descripcion\"].apply(normalizar_texto)\n",
        "\n",
        "# Función para buscar coincidencias\n",
        "def buscar_coincidencia(refaccion, sap_data, threshold=60):\n",
        "    if sap_data.empty:\n",
        "        return None\n",
        "    coincidencia = process.extractOne(refaccion, sap_data[\"Descripcion\"], scorer=fuzz.partial_ratio)\n",
        "    if coincidencia and coincidencia[1] >= threshold:\n",
        "        # Validar si el índice obtenido es válido\n",
        "        idx = coincidencia[2]\n",
        "        if 0 <= idx < len(sap_data):\n",
        "            return sap_data.iloc[idx]\n",
        "    return None\n",
        "\n",
        "# Proceso principal\n",
        "resultado = []\n",
        "\n",
        "for _, ref_row in bd_refacciones.iterrows():\n",
        "    montacargas = ref_row[\"Montacargas\"]\n",
        "    refaccion = ref_row[\"Refaccion\"]\n",
        "\n",
        "    # Filtrar por montacargas\n",
        "    sap_local = bd_sap[bd_sap[\"Montacargas\"] == montacargas]\n",
        "    match_local = None\n",
        "\n",
        "    if not sap_local.empty:\n",
        "        match_local = buscar_coincidencia(refaccion, sap_local)\n",
        "\n",
        "    if match_local is not None:\n",
        "        resultado.append({\n",
        "            \"Montacargas\": montacargas,\n",
        "            \"Refaccion\": refaccion,\n",
        "            \"SAP\": match_local[\"SAP\"],\n",
        "            \"Descripcion\": match_local[\"Descripcion\"],\n",
        "            \"Tipo de Coincidencia\": \"Alta\" if fuzz.ratio(refaccion, match_local[\"Descripcion\"]) >= 80 else \"Media\",\n",
        "            \"Ambito de Busqueda\": \"Local\"\n",
        "        })\n",
        "    else:\n",
        "        # Búsqueda global\n",
        "        match_global = buscar_coincidencia(refaccion, bd_sap)\n",
        "        if match_global is not None:\n",
        "            resultado.append({\n",
        "                \"Montacargas\": montacargas,\n",
        "                \"Refaccion\": refaccion,\n",
        "                \"SAP\": match_global[\"SAP\"],\n",
        "                \"Descripcion\": match_global[\"Descripcion\"],\n",
        "                \"Tipo de Coincidencia\": \"Alta\" if fuzz.ratio(refaccion, match_global[\"Descripcion\"]) >= 80 else \"Media\",\n",
        "                \"Ambito de Busqueda\": \"Global\"\n",
        "            })\n",
        "        else:\n",
        "            # Sin coincidencia\n",
        "            resultado.append({\n",
        "                \"Montacargas\": montacargas,\n",
        "                \"Refaccion\": refaccion,\n",
        "                \"SAP\": \"Sin coincidencia\",\n",
        "                \"Descripcion\": \"Sin coincidencia\",\n",
        "                \"Tipo de Coincidencia\": \"Sin coincidencia\",\n",
        "                \"Ambito de Busqueda\": \"Sin coincidencia\"\n",
        "            })\n",
        "\n",
        "# Convertir resultados a DataFrame\n",
        "df_resultado = pd.DataFrame(resultado)\n",
        "\n",
        "# Guardar en un archivo CSV\n",
        "df_resultado.to_csv(\"Resultado_Coincidencias.csv\", index=False, encoding=\"utf-8\")\n",
        "\n",
        "print(\"Proceso completado. Revisa el archivo 'Resultado_Coincidencias.csv'.\")\n"
      ]
    },
    {
      "cell_type": "code",
      "source": [
        "pip install pytesseract pdf2image PyPDF2 pymupdf reportlab"
      ],
      "metadata": {
        "colab": {
          "base_uri": "https://localhost:8080/"
        },
        "id": "87fI8ouwZHYQ",
        "outputId": "dc734ac7-7e9c-4585-b19b-4de1379c9f54"
      },
      "execution_count": 1,
      "outputs": [
        {
          "output_type": "stream",
          "name": "stdout",
          "text": [
            "Collecting pytesseract\n",
            "  Downloading pytesseract-0.3.13-py3-none-any.whl.metadata (11 kB)\n",
            "Collecting pdf2image\n",
            "  Downloading pdf2image-1.17.0-py3-none-any.whl.metadata (6.2 kB)\n",
            "Collecting PyPDF2\n",
            "  Downloading pypdf2-3.0.1-py3-none-any.whl.metadata (6.8 kB)\n",
            "Collecting pymupdf\n",
            "  Downloading pymupdf-1.25.1-cp39-abi3-manylinux2014_x86_64.manylinux_2_17_x86_64.whl.metadata (3.4 kB)\n",
            "Collecting reportlab\n",
            "  Downloading reportlab-4.2.5-py3-none-any.whl.metadata (1.5 kB)\n",
            "Requirement already satisfied: packaging>=21.3 in /usr/local/lib/python3.10/dist-packages (from pytesseract) (24.2)\n",
            "Requirement already satisfied: Pillow>=8.0.0 in /usr/local/lib/python3.10/dist-packages (from pytesseract) (11.0.0)\n",
            "Requirement already satisfied: chardet in /usr/local/lib/python3.10/dist-packages (from reportlab) (5.2.0)\n",
            "Downloading pytesseract-0.3.13-py3-none-any.whl (14 kB)\n",
            "Downloading pdf2image-1.17.0-py3-none-any.whl (11 kB)\n",
            "Downloading pypdf2-3.0.1-py3-none-any.whl (232 kB)\n",
            "\u001b[2K   \u001b[90m━━━━━━━━━━━━━━━━━━━━━━━━━━━━━━━━━━━━━━━━\u001b[0m \u001b[32m232.6/232.6 kB\u001b[0m \u001b[31m3.8 MB/s\u001b[0m eta \u001b[36m0:00:00\u001b[0m\n",
            "\u001b[?25hDownloading pymupdf-1.25.1-cp39-abi3-manylinux2014_x86_64.manylinux_2_17_x86_64.whl (20.0 MB)\n",
            "\u001b[2K   \u001b[90m━━━━━━━━━━━━━━━━━━━━━━━━━━━━━━━━━━━━━━━━\u001b[0m \u001b[32m20.0/20.0 MB\u001b[0m \u001b[31m34.7 MB/s\u001b[0m eta \u001b[36m0:00:00\u001b[0m\n",
            "\u001b[?25hDownloading reportlab-4.2.5-py3-none-any.whl (1.9 MB)\n",
            "\u001b[2K   \u001b[90m━━━━━━━━━━━━━━━━━━━━━━━━━━━━━━━━━━━━━━━━\u001b[0m \u001b[32m1.9/1.9 MB\u001b[0m \u001b[31m50.6 MB/s\u001b[0m eta \u001b[36m0:00:00\u001b[0m\n",
            "\u001b[?25hInstalling collected packages: reportlab, pytesseract, PyPDF2, pymupdf, pdf2image\n",
            "Successfully installed PyPDF2-3.0.1 pdf2image-1.17.0 pymupdf-1.25.1 pytesseract-0.3.13 reportlab-4.2.5\n"
          ]
        }
      ]
    },
    {
      "cell_type": "code",
      "source": [
        "# Importar las bibliotecas\n",
        "from pdf2image import convert_from_path\n",
        "import pytesseract\n",
        "from reportlab.pdfgen import canvas\n",
        "from reportlab.lib.pagesizes import letter\n",
        "from PyPDF2 import PdfWriter, PdfReader\n",
        "import os\n",
        "\n",
        "# Ruta al archivo PDF original\n",
        "pdf_path = \"archivo.pdf\"  # Cambia a la ruta de tu archivo PDF\n",
        "\n",
        "# Convertir PDF a imágenes\n",
        "print(\"Convirtiendo el PDF a imágenes...\")\n",
        "pages = convert_from_path(pdf_path, dpi=300)\n",
        "image_paths = []\n",
        "for i, page in enumerate(pages):\n",
        "    image_path = f\"page_{i}.png\"\n",
        "    page.save(image_path, \"PNG\")\n",
        "    image_paths.append(image_path)\n",
        "\n",
        "# Realizar OCR en cada imagen y guardar los textos\n",
        "print(\"Realizando OCR en las imágenes...\")\n",
        "ocr_texts = []\n",
        "for image_path in image_paths:\n",
        "    text = pytesseract.image_to_string(image_path, lang='spa')  # OCR en español\n",
        "    ocr_texts.append(text)\n",
        "\n",
        "# Crear un nuevo PDF con texto seleccionable\n",
        "output_pdf_path = \"pdf_con_texto.pdf\"\n",
        "print(\"Creando el PDF con texto seleccionable...\")\n",
        "writer = PdfWriter()\n",
        "for i, (image_path, text) in enumerate(zip(image_paths, ocr_texts)):\n",
        "    # Crear un PDF temporal con el texto OCR\n",
        "    temp_pdf_path = f\"temp_page_{i}.pdf\"\n",
        "    c = canvas.Canvas(temp_pdf_path, pagesize=letter)\n",
        "    c.drawString(50, 750, text[:100])  # Ejemplo: texto al inicio de la página\n",
        "    c.drawImage(image_path, 0, 0, width=letter[0], height=letter[1])  # Insertar imagen\n",
        "    c.save()\n",
        "\n",
        "    # Añadir la página al PDF final\n",
        "    writer.append(temp_pdf_path)\n",
        "\n",
        "# Escribir el PDF final\n",
        "with open(output_pdf_path, \"wb\") as output_file:\n",
        "    writer.write(output_file)\n",
        "\n",
        "# Limpieza de archivos temporales\n",
        "for image_path in image_paths:\n",
        "    os.remove(image_path)\n",
        "for i in range(len(ocr_texts)):\n",
        "    os.remove(f\"temp_page_{i}.pdf\")\n",
        "\n",
        "print(f\"PDF con texto seleccionable creado: {output_pdf_path}\")\n"
      ],
      "metadata": {
        "id": "KXhSEmnNZ3jx"
      },
      "execution_count": null,
      "outputs": []
    }
  ]
}